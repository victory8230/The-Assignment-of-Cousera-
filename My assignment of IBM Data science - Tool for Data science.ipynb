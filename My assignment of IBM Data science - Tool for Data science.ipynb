{
 "cells": [
  {
   "cell_type": "markdown",
   "id": "1c9adb3d",
   "metadata": {},
   "source": [
    "#   My Jupyter Notebook on IBM Watson Studio\n"
   ]
  },
  {
   "cell_type": "markdown",
   "id": "092cf7a5",
   "metadata": {},
   "source": [
    "EUNEJONG JI   \n",
    "\n",
    "Data Scientist "
   ]
  },
  {
   "cell_type": "markdown",
   "id": "09d3a0ba",
   "metadata": {},
   "source": [
    "I am interested in data science because we can solve difficult problem in our society and predict the future with data and make a wise decision and prevent the upcoming unknown disaster"
   ]
  },
  {
   "cell_type": "markdown",
   "id": "144b55b6",
   "metadata": {},
   "source": [
    "###   I will print out \" Life is short, so we need AI robot\""
   ]
  },
  {
   "cell_type": "code",
   "execution_count": 1,
   "id": "69e50175",
   "metadata": {},
   "outputs": [
    {
     "name": "stdout",
     "output_type": "stream",
     "text": [
      " Life is short,  so we need AI robot\n"
     ]
    }
   ],
   "source": [
    "a = \" Life is short, \"\n",
    "b = \" so we need AI robot\"\n",
    "print(a+b)"
   ]
  },
  {
   "cell_type": "markdown",
   "id": "f20c4f1a",
   "metadata": {},
   "source": [
    "<html lang=\"ko\" data-dark=\"false\"> <head> <meta charset=\"utf-8\"> <title>NAVER</title>\n",
    "    \n",
    "for i in range(1,10):\n",
    "print(\"2 X %d = %d\" % (i,2*i))\n",
    "# 2x1,2x2,2x3,.....calcualtion code\n",
    "    \n",
    "Animal list = [cat, dog, tiger, monkey,rabbit]\n",
    "number list = [1,2,3,4,5,6,7,8,9,10]\n",
    "    "
   ]
  },
  {
   "cell_type": "code",
   "execution_count": null,
   "id": "1ae530b8",
   "metadata": {},
   "outputs": [],
   "source": []
  }
 ],
 "metadata": {
  "kernelspec": {
   "display_name": "Python 3 (ipykernel)",
   "language": "python",
   "name": "python3"
  },
  "language_info": {
   "codemirror_mode": {
    "name": "ipython",
    "version": 3
   },
   "file_extension": ".py",
   "mimetype": "text/x-python",
   "name": "python",
   "nbconvert_exporter": "python",
   "pygments_lexer": "ipython3",
   "version": "3.8.13"
  }
 },
 "nbformat": 4,
 "nbformat_minor": 5
}
